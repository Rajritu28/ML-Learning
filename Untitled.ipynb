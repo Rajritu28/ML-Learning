{
 "cells": [
  {
   "cell_type": "code",
   "execution_count": null,
   "metadata": {},
   "outputs": [],
   "source": [
    "# data analysis and wrangling\n",
    "import pandas as pd\n",
    "import numpy as np\n",
    "import random as rnd\n",
    "\n",
    "# visualization\n",
    "import seaborn as sns\n",
    "import matplotlib.pyplot as plt\n",
    "%matplotlib inline"
   ]
  },
  {
   "cell_type": "code",
   "execution_count": null,
   "metadata": {},
   "outputs": [],
   "source": [
    "from scipy import stats\n",
    "from scipy.stats import norm, skew \n",
    "import re\n",
    "\n",
    "pd.options.display.max_rows = 1000\n",
    "pd.options.display.max_columns = 100\n",
    "\n",
    "import warnings\n",
    "warnings.filterwarnings('ignore')"
   ]
  },
  {
   "cell_type": "code",
   "execution_count": null,
   "metadata": {},
   "outputs": [],
   "source": [
    "train_df = pd.read_csv('train.csv')\n",
    "test_df = pd.read_csv('test.csv')\n",
    "df = pd.concat([train_df, test_df])"
   ]
  },
  {
   "cell_type": "code",
   "execution_count": null,
   "metadata": {
    "scrolled": true
   },
   "outputs": [],
   "source": [
    "sns.heatmap(df.isnull(),yticklabels=False,cbar=False,cmap='viridis')"
   ]
  },
  {
   "cell_type": "code",
   "execution_count": null,
   "metadata": {
    "scrolled": true
   },
   "outputs": [],
   "source": [
    "#df.info()\n",
    "df.isna().sum().sort_values(ascending=False)"
   ]
  },
  {
   "cell_type": "code",
   "execution_count": null,
   "metadata": {},
   "outputs": [],
   "source": [
    "df.isnull().any()"
   ]
  },
  {
   "cell_type": "code",
   "execution_count": null,
   "metadata": {},
   "outputs": [],
   "source": [
    "titanic_train['Sex'].unique()"
   ]
  },
  {
   "cell_type": "code",
   "execution_count": null,
   "metadata": {},
   "outputs": [],
   "source": [
    "train_na = (train.isnull().sum() / len(train)) * 100\n",
    "train_na = train_na.drop(train_na[train_na == 0].index).sort_values(ascending=False)[:30]\n",
    "miss_train = pd.DataFrame({'Train Missing Ratio' :train_na})\n",
    "miss_train.head()"
   ]
  },
  {
   "cell_type": "code",
   "execution_count": null,
   "metadata": {},
   "outputs": [],
   "source": [
    "# Analyze the count of survivors by Pclass\n",
    "\n",
    "ax = sns.countplot(x=\"Pclass\", hue=\"Survived\", data=train)\n",
    "train[['Pclass', 'Survived']].groupby(['Pclass']).count().sort_values(by='Survived', ascending=False)\n",
    "\n",
    "# Analyze the Survival Probability by Pclass\n",
    "\n",
    "g = sns.barplot(x=\"Pclass\",y=\"Survived\",data=train)\n",
    "g = g.set_ylabel(\"Survival Probability\")\n",
    "train[['Pclass', 'Survived']].groupby(['Pclass']).mean().sort_values(by='Survived', ascending=False)"
   ]
  },
  {
   "cell_type": "code",
   "execution_count": null,
   "metadata": {},
   "outputs": [],
   "source": [
    "# Let's explore the distribution of age by response variable (Survived)\n",
    "fig = plt.figure(figsize=(10,8),)\n",
    "axis = sns.kdeplot(train.loc[(train['Survived'] == 1),'Age'] , color='g',shade=True, label='Survived')\n",
    "axis = sns.kdeplot(train.loc[(train['Survived'] == 0),'Age'] , color='b',shade=True,label='Did Not Survived')\n",
    "plt.title('Age Distribution - Surviver V.S. Non Survivors', fontsize = 20)\n",
    "plt.xlabel(\"Passenger Age\", fontsize = 12)\n",
    "plt.ylabel('Frequency', fontsize = 12);"
   ]
  },
  {
   "cell_type": "code",
   "execution_count": null,
   "metadata": {},
   "outputs": [],
   "source": [
    "# Analyze the count of survivors by Parch\n",
    "\n",
    "ax = sns.countplot(x=\"Parch\", hue=\"Survived\", data=train)\n",
    "train[['Parch', 'Survived']].groupby(['Parch']).count().sort_values(by='Survived', ascending=False)"
   ]
  },
  {
   "cell_type": "code",
   "execution_count": null,
   "metadata": {},
   "outputs": [],
   "source": [
    "# Age, Pclass & Survival\n",
    "sns.lmplot('Age','Survived',data=train,hue='Pclass')"
   ]
  },
  {
   "cell_type": "code",
   "execution_count": null,
   "metadata": {},
   "outputs": [],
   "source": [
    "# Relation among Pclass, Gender & Survival Rate\n",
    "g = sns.catplot(x=\"Sex\", y=\"Survived\", col=\"Pclass\", data=train, saturation=.5, \n",
    "                kind=\"bar\", ci=None, aspect=.6)"
   ]
  },
  {
   "cell_type": "code",
   "execution_count": null,
   "metadata": {},
   "outputs": [],
   "source": [
    "# Age\n",
    "\n",
    "## Fill Age with the median age of similar rows according to Sex, Pclass, Parch and SibSp\n",
    "# Index of NaN age rows\n",
    "missing_index = list(combdata[\"Age\"][combdata[\"Age\"].isnull()].index)\n",
    "\n",
    "for i in missing_index :\n",
    "    median_age = combdata[\"Age\"].median()\n",
    "    filled_age = combdata[\"Age\"][((combdata['Sex'] == combdata.iloc[i][\"Sex\"]) & \n",
    "                                (combdata['SibSp'] == combdata.iloc[i][\"SibSp\"]) & \n",
    "                                (combdata['Parch'] == combdata.iloc[i][\"Parch\"]) & \n",
    "                                (combdata['Pclass'] == combdata.iloc[i][\"Pclass\"]))].median()\n",
    "    if not np.isnan(filled_age) :\n",
    "        combdata['Age'].iloc[i] = filled_age\n",
    "    else :\n",
    "        combdata['Age'].iloc[i] = median_age"
   ]
  },
  {
   "cell_type": "code",
   "execution_count": null,
   "metadata": {},
   "outputs": [],
   "source": [
    "# Sex - Create dummy variables\n",
    "#combdata[\"Sex\"] = combdata[\"Sex\"].map({\"male\": 0, \"female\":1}) or\n",
    "combdata = pd.get_dummies(combdata, columns = [\"Sex\"])"
   ]
  },
  {
   "cell_type": "code",
   "execution_count": null,
   "metadata": {},
   "outputs": [],
   "source": [
    "# Ticket - Extracting the ticket prefix. This might be a representation of class/compartment.\n",
    "# If there is no prefix replace with U (Unknown). \n",
    "\n",
    "Ticket = []\n",
    "for i in list(combdata.Ticket):\n",
    "    if not i.isdigit() :\n",
    "        Ticket.append(i.replace(\".\",\"\").replace(\"/\",\"\").strip().split(' ')[0])\n",
    "    else:\n",
    "        Ticket.append(\"U\")\n",
    "        \n",
    "combdata[\"Ticket\"] = Ticket\n",
    "combdata[\"Ticket\"].unique()\n",
    "\n",
    "combdata = pd.get_dummies(combdata, columns = [\"Ticket\"], prefix=\"T\")"
   ]
  },
  {
   "cell_type": "code",
   "execution_count": null,
   "metadata": {},
   "outputs": [],
   "source": [
    "# Cabin - Replace the missing Cabin number by the type of cabin unknown 'U'\n",
    "combdata[\"Cabin\"] = pd.Series([i[0] if not pd.isnull(i) else 'U' for i in combdata['Cabin'] ])"
   ]
  },
  {
   "cell_type": "code",
   "execution_count": null,
   "metadata": {},
   "outputs": [],
   "source": [
    "# Let's plot the survival probability by Cabin\n",
    "g  = sns.factorplot(x=\"Cabin\",y=\"Survived\",data=combdata,kind=\"bar\", size = 7 ,\n",
    "                    palette = \"muted\",order=['A','B','C','D','E','F','G','T','U'])\n",
    "g.despine(left=True)\n",
    "g = g.set_ylabels(\"survival probability\")"
   ]
  },
  {
   "cell_type": "code",
   "execution_count": null,
   "metadata": {},
   "outputs": [],
   "source": [
    "# Create dummy variables\n",
    "combdata = pd.get_dummies(combdata, columns = [\"Cabin\"], prefix=\"Cabin\")"
   ]
  },
  {
   "cell_type": "code",
   "execution_count": null,
   "metadata": {},
   "outputs": [],
   "source": [
    "# Create a variable representing family size from SibSp and Parch\n",
    "combdata[\"Fsize\"] = combdata[\"SibSp\"] + combdata[\"Parch\"] + 1\n",
    "\n",
    "# Create new feature of family size\n",
    "combdata['Single'] = combdata['Fsize'].map(lambda s: 1 if s == 1 else 0)\n",
    "combdata['SmallF'] = combdata['Fsize'].map(lambda s: 1 if  s == 2  else 0)\n",
    "combdata['MedF'] = combdata['Fsize'].map(lambda s: 1 if 3 <= s <= 4 else 0)\n",
    "combdata['LargeF'] = combdata['Fsize'].map(lambda s: 1 if s >= 5 else 0)"
   ]
  },
  {
   "cell_type": "code",
   "execution_count": null,
   "metadata": {},
   "outputs": [],
   "source": [
    "df['Title']=df.Name.str.extract('([A-Za-z]+)\\.')\n",
    "df['Title'].value_counts()"
   ]
  },
  {
   "cell_type": "code",
   "execution_count": null,
   "metadata": {},
   "outputs": [],
   "source": [
    "pd.crosstab(df['Title'], df['Sex'])"
   ]
  },
  {
   "cell_type": "code",
   "execution_count": null,
   "metadata": {},
   "outputs": [],
   "source": [
    "df[['Title','Age']].groupby(by='Title',as_index=False).mean().sort_values('Age',ascending=False)"
   ]
  },
  {
   "cell_type": "code",
   "execution_count": null,
   "metadata": {},
   "outputs": [],
   "source": [
    "df['Title'] = df['Title'].replace(['Major','Sir','Capt', 'Col','Dr','Rev','Don','Jonkheer'], 'Officer')\n",
    "df['Title'] = df['Title'].replace(['Mme','Mlle','Ms', 'Countess','Dona','Lady'], 'Mrs')"
   ]
  },
  {
   "cell_type": "code",
   "execution_count": null,
   "metadata": {},
   "outputs": [],
   "source": [
    "df['Title'].value_counts()"
   ]
  },
  {
   "cell_type": "code",
   "execution_count": null,
   "metadata": {},
   "outputs": [],
   "source": [
    "df[df['Embarked'].isnull()]"
   ]
  },
  {
   "cell_type": "code",
   "execution_count": null,
   "metadata": {},
   "outputs": [],
   "source": [
    "pd.crosstab(df['Embarked'], df['Fare'])"
   ]
  },
  {
   "cell_type": "code",
   "execution_count": null,
   "metadata": {},
   "outputs": [],
   "source": [
    "df[df['Cabin']=='B28']"
   ]
  },
  {
   "cell_type": "code",
   "execution_count": null,
   "metadata": {},
   "outputs": [],
   "source": [
    "df['Embarked'].mode().iloc[0]"
   ]
  },
  {
   "cell_type": "code",
   "execution_count": null,
   "metadata": {},
   "outputs": [],
   "source": [
    "df['Embarked'] = df['Embarked'].fillna(df['Embarked'].mode().iloc[0])"
   ]
  },
  {
   "cell_type": "code",
   "execution_count": null,
   "metadata": {},
   "outputs": [],
   "source": [
    "df['Embarked'] = df['Embarked'].map( {'Q': 0, 'S': 1, 'C': 2} ).astype(int)\n",
    "df['Sex'] = df['Sex'].map({'female': 1,'male': 0}).astype(int)\n",
    "df['Title'] = df['Title'].map( {'Mr': 0, 'Mrs': 1, 'Miss': 2, 'Master':3, 'Officer':4} )"
   ]
  },
  {
   "cell_type": "code",
   "execution_count": null,
   "metadata": {},
   "outputs": [],
   "source": [
    "#df= df.drop(['Ticket', 'Cabin','Name'], axis=1)\n",
    "df= df.drop(['Ticket', 'Name'], axis=1)\n",
    "df.info()"
   ]
  },
  {
   "cell_type": "code",
   "execution_count": null,
   "metadata": {},
   "outputs": [],
   "source": [
    "df[df['Fare'].isnull()]"
   ]
  },
  {
   "cell_type": "code",
   "execution_count": null,
   "metadata": {},
   "outputs": [],
   "source": [
    "df[['Embarked','Pclass','Fare']].groupby(['Embarked','Pclass'],as_index=False).mean()"
   ]
  },
  {
   "cell_type": "code",
   "execution_count": null,
   "metadata": {},
   "outputs": [],
   "source": [
    "df['Fare'] = df['Fare'].fillna(14.4)"
   ]
  },
  {
   "cell_type": "code",
   "execution_count": null,
   "metadata": {},
   "outputs": [],
   "source": [
    "corr_mat = df.corr()\n",
    "corr_mat['Age'].sort_values()"
   ]
  },
  {
   "cell_type": "code",
   "execution_count": null,
   "metadata": {},
   "outputs": [],
   "source": [
    "df[['Age','Pclass','Title']].groupby(['Pclass','Title'],as_index=False).mean()"
   ]
  },
  {
   "cell_type": "code",
   "execution_count": null,
   "metadata": {},
   "outputs": [],
   "source": [
    "df.loc[(df['Pclass'] == 1) & (df['Title'] == 0) & (df['Age'].isnull()) , 'Age'] = 41.4\n",
    "df.loc[(df['Pclass'] == 1) & (df['Title'] == 1) & (df['Age'].isnull()) , 'Age'] = 42.2\n",
    "df.loc[(df['Pclass'] == 1) & (df['Title'] == 2) & (df['Age'].isnull()) , 'Age'] = 30.3\n",
    "df.loc[(df['Pclass'] == 1) & (df['Title'] == 3) & (df['Age'].isnull()) , 'Age'] = 6.9\n",
    "df.loc[(df['Pclass'] == 1) & (df['Title'] == 4) & (df['Age'].isnull()) , 'Age'] = 49.2\n",
    "df.loc[(df['Pclass'] == 2) & (df['Title'] == 0) & (df['Age'].isnull()) , 'Age'] = 32.3\n",
    "df.loc[(df['Pclass'] == 2) & (df['Title'] == 1) & (df['Age'].isnull()) , 'Age'] = 33.4\n",
    "df.loc[(df['Pclass'] == 2) & (df['Title'] == 2) & (df['Age'].isnull()) , 'Age'] = 20.7\n",
    "df.loc[(df['Pclass'] == 2) & (df['Title'] == 3) & (df['Age'].isnull()) , 'Age'] = 2.7\n",
    "df.loc[(df['Pclass'] == 2) & (df['Title'] == 4) & (df['Age'].isnull()) , 'Age'] = 40.7\n",
    "df.loc[(df['Pclass'] == 3) & (df['Title'] == 0) & (df['Age'].isnull()) , 'Age'] = 28.3\n",
    "df.loc[(df['Pclass'] == 3) & (df['Title'] == 1) & (df['Age'].isnull()) , 'Age'] = 32.3\n",
    "df.loc[(df['Pclass'] == 3) & (df['Title'] == 2) & (df['Age'].isnull()) , 'Age'] = 17.3\n",
    "df.loc[(df['Pclass'] == 3) & (df['Title'] == 3) & (df['Age'].isnull()) , 'Age'] = 6.0"
   ]
  },
  {
   "cell_type": "code",
   "execution_count": null,
   "metadata": {
    "scrolled": false
   },
   "outputs": [],
   "source": [
    "df.info()"
   ]
  },
  {
   "cell_type": "code",
   "execution_count": null,
   "metadata": {},
   "outputs": [],
   "source": [
    "df= df.drop(['Cabin'], axis=1)"
   ]
  },
  {
   "cell_type": "code",
   "execution_count": null,
   "metadata": {},
   "outputs": [],
   "source": [
    "corr_mat = df.corr()\n",
    "corr_mat['Survived'].sort_values()"
   ]
  },
  {
   "cell_type": "code",
   "execution_count": null,
   "metadata": {},
   "outputs": [],
   "source": [
    "pd.qcut(df['Fare'], 4).value_counts()"
   ]
  },
  {
   "cell_type": "code",
   "execution_count": null,
   "metadata": {},
   "outputs": [],
   "source": [
    "df.loc[(df['Fare'] <= 7.896) , 'Fareband'] = 0\n",
    "df.loc[(df['Fare'] > 7.896) & (df['Fare'] <= 14.454), 'Fareband'] = 1\n",
    "df.loc[(df['Fare'] > 14.454) & (df['Fare'] <= 31.275), 'Fareband']   = 2\n",
    "df.loc[ df['Fare'] > 31.275, 'Fareband'] = 3"
   ]
  },
  {
   "cell_type": "code",
   "execution_count": null,
   "metadata": {},
   "outputs": [],
   "source": [
    "corr_mat = df.corr()\n",
    "corr_mat['Survived'].sort_values()"
   ]
  },
  {
   "cell_type": "code",
   "execution_count": null,
   "metadata": {},
   "outputs": [],
   "source": [
    "df= df.drop(['Fare'], axis=1)"
   ]
  },
  {
   "cell_type": "code",
   "execution_count": null,
   "metadata": {},
   "outputs": [],
   "source": [
    "g = sns.FacetGrid(df, col='Survived')\n",
    "g.map(plt.hist, 'Age', bins=30)"
   ]
  },
  {
   "cell_type": "code",
   "execution_count": null,
   "metadata": {},
   "outputs": [],
   "source": [
    "grid = sns.FacetGrid(df, col='Survived', row='Pclass', aspect=1.6)\n",
    "grid.map(plt.hist, 'Age', alpha=.5, bins=20)\n",
    "grid.add_legend();"
   ]
  },
  {
   "cell_type": "code",
   "execution_count": null,
   "metadata": {},
   "outputs": [],
   "source": [
    "df.loc[(df['Age'] <= 19.0) , 'Ageband'] = 0\n",
    "df.loc[(df['Age'] > 19.0) & (df['Age'] <= 40.7), 'Ageband'] = 1\n",
    "df.loc[ df['Age'] > 40.7, 'Ageband'] = 2"
   ]
  },
  {
   "cell_type": "code",
   "execution_count": null,
   "metadata": {},
   "outputs": [],
   "source": [
    "corr_mat = df.corr()\n",
    "corr_mat['Survived'].sort_values()"
   ]
  },
  {
   "cell_type": "code",
   "execution_count": null,
   "metadata": {},
   "outputs": [],
   "source": [
    "df['AgeBand'] = pd.cut(df['Age'], 5)\n",
    "df[['AgeBand','Pclass','Survived']].groupby(['Pclass','AgeBand'], as_index=False).mean().sort_values(by=['Pclass','AgeBand'], ascending=True)"
   ]
  },
  {
   "cell_type": "code",
   "execution_count": null,
   "metadata": {},
   "outputs": [],
   "source": [
    "df['AgeBand'] = pd.cut(df['Age'], 5)\n",
    "df[['AgeBand','Survived']].groupby(['AgeBand'], as_index=False).mean().sort_values(by=['AgeBand'], ascending=True)"
   ]
  },
  {
   "cell_type": "code",
   "execution_count": null,
   "metadata": {},
   "outputs": [],
   "source": [
    "df.loc[(df['Age'] <= 16.136) & (df['Pclass'] == 1), 'Ageband'] = 0\n",
    "df.loc[(df['Age'] > 16.136) & (df['Age'] <= 32.102) & (df['Pclass'] == 1), 'Ageband'] = 1\n",
    "df.loc[(df['Age'] > 32.102) & (df['Age'] <= 48.068) & (df['Pclass'] == 1), 'Ageband'] = 2\n",
    "df.loc[(df['Age'] > 48.068) & (df['Age'] <= 64.034) & (df['Pclass'] == 1), 'Ageband'] = 3\n",
    "df.loc[(df['Age'] > 64.034) & (df['Pclass'] == 1), 'Ageband'] = 4\n",
    "df.loc[(df['Age'] <= 16.136) & (df['Pclass'] == 2), 'Ageband'] = 5\n",
    "df.loc[(df['Age'] > 16.136) & (df['Age'] <= 32.102) & (df['Pclass'] == 2), 'Ageband'] = 6\n",
    "df.loc[(df['Age'] > 32.102) & (df['Age'] <= 48.068) & (df['Pclass'] == 2), 'Ageband'] = 7\n",
    "df.loc[(df['Age'] > 48.068) & (df['Age'] <= 64.034) & (df['Pclass'] == 2), 'Ageband'] = 8\n",
    "df.loc[(df['Age'] > 64.034) & (df['Pclass'] == 2), 'Ageband'] = 9\n",
    "df.loc[(df['Age'] <= 16.136) & (df['Pclass'] == 3), 'Ageband'] = 10\n",
    "df.loc[(df['Age'] > 16.136) & (df['Age'] <= 32.102) & (df['Pclass'] == 3), 'Ageband'] = 11\n",
    "df.loc[(df['Age'] > 32.102) & (df['Age'] <= 48.068) & (df['Pclass'] == 3), 'Ageband'] = 12\n",
    "df.loc[(df['Age'] > 48.068) & (df['Age'] <= 64.034) & (df['Pclass'] == 3), 'Ageband'] = 13\n",
    "df.loc[(df['Age'] > 64.034) & (df['Pclass'] == 3), 'Ageband'] = 14\n",
    "\n",
    "df.loc[(df['Age'] <= 16.136) , 'Ageband1'] = 0\n",
    "df.loc[(df['Age'] > 16.136) & (df['Age'] <= 32.102) , 'Ageband1'] = 1\n",
    "df.loc[(df['Age'] > 32.102) & (df['Age'] <= 48.068) , 'Ageband1'] = 2\n",
    "df.loc[(df['Age'] > 48.068) & (df['Age'] <= 64.034) , 'Ageband1'] = 3\n",
    "df.loc[(df['Age'] > 64.034) , 'Ageband1'] = 4"
   ]
  },
  {
   "cell_type": "code",
   "execution_count": null,
   "metadata": {},
   "outputs": [],
   "source": [
    "corr_mat = df.corr()\n",
    "corr_mat['Survived'].sort_values()"
   ]
  },
  {
   "cell_type": "code",
   "execution_count": null,
   "metadata": {},
   "outputs": [],
   "source": [
    "df= df.drop(['Age','Ageband1'], axis=1)"
   ]
  },
  {
   "cell_type": "code",
   "execution_count": null,
   "metadata": {},
   "outputs": [],
   "source": [
    "df.info()"
   ]
  },
  {
   "cell_type": "code",
   "execution_count": null,
   "metadata": {},
   "outputs": [],
   "source": [
    "corr_mat = df.corr()\n",
    "corr_mat['Embarked'].sort_values()"
   ]
  },
  {
   "cell_type": "code",
   "execution_count": null,
   "metadata": {},
   "outputs": [],
   "source": [
    "pd.crosstab(df['Embarked'], df['Pclass'])"
   ]
  },
  {
   "cell_type": "code",
   "execution_count": null,
   "metadata": {
    "scrolled": true
   },
   "outputs": [],
   "source": [
    "df[['Embarked','Pclass','Survived']].groupby(['Pclass','Embarked'], as_index=False).mean().sort_values(by='Pclass', ascending=True)"
   ]
  },
  {
   "cell_type": "code",
   "execution_count": null,
   "metadata": {},
   "outputs": [],
   "source": [
    "df.loc[(df['Pclass'] == 1) & (df['Sex'] == 0) , 'Band2'] = 1\n",
    "df.loc[(df['Pclass'] == 1) & (df['Sex'] == 1) , 'Band2'] = 2\n",
    "df.loc[(df['Pclass'] == 1) & (df['Sex'] == 2) , 'Band2'] = 3\n",
    "df.loc[(df['Pclass'] == 2) & (df['Sex'] == 0) , 'Band2'] = 4\n",
    "df.loc[(df['Pclass'] == 2) & (df['Sex'] == 1) , 'Band2'] = 5\n",
    "df.loc[(df['Pclass'] == 2) & (df['Sex'] == 2) , 'Band2'] = 6\n",
    "df.loc[(df['Pclass'] == 3) & (df['Sex'] == 0) , 'Band2'] = 7\n",
    "df.loc[(df['Pclass'] == 3) & (df['Sex'] == 1) , 'Band2'] = 8\n",
    "df.loc[(df['Pclass'] == 3) & (df['Sex'] == 2) , 'Band2'] = 9"
   ]
  },
  {
   "cell_type": "code",
   "execution_count": null,
   "metadata": {},
   "outputs": [],
   "source": [
    "df[['Embarked','Survived']].groupby(['Embarked'], as_index=False).mean().sort_values(by='Embarked', ascending=True)"
   ]
  },
  {
   "cell_type": "code",
   "execution_count": null,
   "metadata": {},
   "outputs": [],
   "source": [
    "df[['Embarked','Sex','Survived']].groupby(['Embarked','Sex'], as_index=False).mean().sort_values(by='Embarked', ascending=True)"
   ]
  },
  {
   "cell_type": "code",
   "execution_count": null,
   "metadata": {},
   "outputs": [],
   "source": [
    "df.loc[(df['Embarked'] == 0) & (df['Sex'] == 0) , 'Band1'] = 1\n",
    "df.loc[(df['Embarked'] == 0) & (df['Sex'] == 1) , 'Band1'] = 2\n",
    "df.loc[(df['Embarked'] == 1) & (df['Sex'] == 0) , 'Band1'] = 3\n",
    "df.loc[(df['Embarked'] == 1) & (df['Sex'] == 1) , 'Band1'] = 4\n",
    "df.loc[(df['Embarked'] == 2) & (df['Sex'] == 0) , 'Band1'] = 5\n",
    "df.loc[(df['Embarked'] == 2) & (df['Sex'] == 1) , 'Band1'] = 6"
   ]
  },
  {
   "cell_type": "code",
   "execution_count": null,
   "metadata": {},
   "outputs": [],
   "source": [
    "corr_mat = df.corr()\n",
    "corr_mat['Survived'].sort_values()"
   ]
  },
  {
   "cell_type": "code",
   "execution_count": null,
   "metadata": {},
   "outputs": [],
   "source": [
    "df= df.drop(['Band2'], axis=1)"
   ]
  },
  {
   "cell_type": "code",
   "execution_count": null,
   "metadata": {},
   "outputs": [],
   "source": [
    "df['FamilySize'] = df['SibSp'] + df['Parch'] + 1"
   ]
  },
  {
   "cell_type": "code",
   "execution_count": null,
   "metadata": {},
   "outputs": [],
   "source": [
    "corr_mat = df.corr()\n",
    "corr_mat['Survived'].sort_values()"
   ]
  },
  {
   "cell_type": "code",
   "execution_count": null,
   "metadata": {},
   "outputs": [],
   "source": [
    "df.loc[df['FamilySize'] == 1, 'IsAlone'] = 1\n",
    "df.loc[df['FamilySize'] > 1, 'IsAlone'] = 0"
   ]
  },
  {
   "cell_type": "code",
   "execution_count": null,
   "metadata": {},
   "outputs": [],
   "source": [
    "corr_mat = df.corr()\n",
    "corr_mat['Survived'].sort_values()"
   ]
  },
  {
   "cell_type": "code",
   "execution_count": null,
   "metadata": {},
   "outputs": [],
   "source": [
    "df= df.drop(['SibSp','FamilySize','Parch'], axis=1)"
   ]
  },
  {
   "cell_type": "code",
   "execution_count": null,
   "metadata": {},
   "outputs": [],
   "source": [
    "df= df.drop(['AgeBand'], axis=1)"
   ]
  },
  {
   "cell_type": "code",
   "execution_count": null,
   "metadata": {},
   "outputs": [],
   "source": [
    "train_df = df[df['Survived'].notnull()]"
   ]
  },
  {
   "cell_type": "code",
   "execution_count": null,
   "metadata": {},
   "outputs": [],
   "source": [
    "test_df=df[df['Survived'].isnull()]"
   ]
  },
  {
   "cell_type": "code",
   "execution_count": null,
   "metadata": {},
   "outputs": [],
   "source": [
    "X = train_df.drop([\"Survived\",\"PassengerId\"] , axis=1)\n",
    "y = train_df[\"Survived\"]"
   ]
  },
  {
   "cell_type": "code",
   "execution_count": null,
   "metadata": {},
   "outputs": [],
   "source": [
    "X.head()"
   ]
  },
  {
   "cell_type": "code",
   "execution_count": null,
   "metadata": {},
   "outputs": [],
   "source": [
    "from sklearn.linear_model import SGDClassifier\n",
    "\n",
    "sgd_clf = SGDClassifier(random_state=42, max_iter=10) # if you want reproducible results set the random_state value.\n",
    "sgd_clf.fit(X, y)"
   ]
  },
  {
   "cell_type": "code",
   "execution_count": null,
   "metadata": {},
   "outputs": [],
   "source": [
    "from sklearn.model_selection import cross_val_score\n",
    "cross_val_score(sgd_clf, X, y, cv=10, scoring=\"accuracy\") "
   ]
  },
  {
   "cell_type": "code",
   "execution_count": null,
   "metadata": {},
   "outputs": [],
   "source": [
    "from sklearn.model_selection import cross_val_predict\n",
    "y_train_pred = cross_val_predict(sgd_clf, X, y, cv=3)\n",
    "y_train_pred"
   ]
  },
  {
   "cell_type": "code",
   "execution_count": null,
   "metadata": {},
   "outputs": [],
   "source": [
    "from sklearn.metrics import confusion_matrix\n",
    "confusion_matrix(y, y_train_pred)"
   ]
  },
  {
   "cell_type": "code",
   "execution_count": null,
   "metadata": {},
   "outputs": [],
   "source": [
    "from sklearn.metrics import f1_score\n",
    "\n",
    "f1_score(y, y_train_pred)"
   ]
  },
  {
   "cell_type": "code",
   "execution_count": null,
   "metadata": {},
   "outputs": [],
   "source": [
    "from sklearn.ensemble import RandomForestRegressor\n",
    "\n",
    "forest_reg = RandomForestRegressor(random_state=42)\n",
    "forest_reg.fit(X, y)"
   ]
  },
  {
   "cell_type": "code",
   "execution_count": null,
   "metadata": {},
   "outputs": [],
   "source": [
    "rf_predictions = forest_reg.predict(X)"
   ]
  },
  {
   "cell_type": "code",
   "execution_count": null,
   "metadata": {},
   "outputs": [],
   "source": [
    "forest_mse = mean_squared_error(y, rf_predictions)\n",
    "forest_rmse = np.sqrt(forest_mse)\n",
    "forest_rmse"
   ]
  },
  {
   "cell_type": "code",
   "execution_count": null,
   "metadata": {},
   "outputs": [],
   "source": [
    "from sklearn import svm\n",
    "\n",
    "# Define Model\n",
    "model = svm.LinearSVC()\n",
    "#Fit Model\n",
    "scores= cross_val_score(model, X, y, cv=10, scoring='accuracy')\n",
    "scores.mean()"
   ]
  },
  {
   "cell_type": "code",
   "execution_count": null,
   "metadata": {},
   "outputs": [],
   "source": [
    "from sklearn.ensemble import RandomForestClassifier\n",
    "random_forest = RandomForestClassifier(n_estimators=100)\n",
    "random_forest.fit(X, y)\n",
    "Y_pred = random_forest.predict(X)\n",
    "random_forest.score(X, y)\n",
    "acc_random_forest = round(random_forest.score(X, y) * 100, 2)\n",
    "acc_random_forest"
   ]
  },
  {
   "cell_type": "code",
   "execution_count": null,
   "metadata": {},
   "outputs": [],
   "source": []
  }
 ],
 "metadata": {
  "kernelspec": {
   "display_name": "Python 3",
   "language": "python",
   "name": "python3"
  },
  "language_info": {
   "codemirror_mode": {
    "name": "ipython",
    "version": 3
   },
   "file_extension": ".py",
   "mimetype": "text/x-python",
   "name": "python",
   "nbconvert_exporter": "python",
   "pygments_lexer": "ipython3",
   "version": "3.7.0"
  }
 },
 "nbformat": 4,
 "nbformat_minor": 2
}
